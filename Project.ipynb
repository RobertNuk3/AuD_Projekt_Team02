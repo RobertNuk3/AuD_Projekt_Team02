{
 "cells": [
  {
   "cell_type": "markdown",
   "id": "2e0d33d0-21c9-48d4-97fc-ef4ada54ee1b",
   "metadata": {},
   "source": [
    "## Talent Scheduling Greedy, etwas formalisiert\n",
    "\n",
    "Sei:\n",
    "- $k$ der aktuelle Schritt (hier; Anzahl der bereits geordneten Szenen)\n",
    "\n",
    "\n",
    "- $x_k$ der aktuelle Zustand (hier; die aktuelle Szene und bereits geordnete Szenen)\n",
    "\n",
    "\n",
    "- $u_k$ eine Entscheidung aus der Menge $U_k(x_k)$ der im Zustand $x_k$ möglichen zulässigen Entscheidungen \n",
    "  - hier; eine mögliche noch nicht geordnete Szene\n",
    "  \n",
    "  \n",
    "- $g(x_k, u_k)$ Kosten / Gewinnbeitrag der Entscheidung $u_k$ im Zustand $x_k$\n",
    "  - hier; die Extra-Kosten, die anfallen, wenn die Szene als nächtes vorkommt/geordnet wird\n",
    "  \n",
    "*noch nicht für den Greedy wichtig* \n",
    "- $f(x_k, u_k)$ der Folgezustand, der aus $x_k$ und der Entscheidung $u_k$ resultiert (eine Zustandstransition)\n",
    "  - hier; die erweiterte Menge der besuchten Knoten und der Zielknoten\n",
    "  "
   ]
  },
  {
   "cell_type": "markdown",
   "id": "06bc8faa-28af-4051-9d6f-80e4d2cc261d",
   "metadata": {},
   "source": [
    "**Bei Greedy** \n",
    "- basiert die Entscheidung in der Regel nur auf den (kurzfristigen) Kosten $g(x_k, u_k)$\n",
    "    $$\\min_{u_k \\in U_k} g(x_k, u_k)$$"
   ]
  },
  {
   "cell_type": "markdown",
   "id": "aaae1c20-9f1b-4319-9e1a-1b8bc6df6e08",
   "metadata": {},
   "source": [
    "### Implementierung"
   ]
  },
  {
   "cell_type": "code",
   "execution_count": 1,
   "id": "cf71ea63-a415-434f-b127-ae699d664018",
   "metadata": {},
   "outputs": [],
   "source": [
    "#IMPORTs\n",
    "import numpy as np\n",
    "import matplotlib.pyplot as plt\n",
    "import pandas as pd\n",
    "\n",
    "#numba\n",
    "from numba import njit, jit\n",
    "from numba.typed import List\n",
    "\n",
    "from numba.core.errors import NumbaDeprecationWarning, NumbaPendingDeprecationWarning\n",
    "import warnings"
   ]
  },
  {
   "cell_type": "code",
   "execution_count": 2,
   "id": "5992f93d-4927-4498-8f92-7fc1fc9d2e14",
   "metadata": {},
   "outputs": [],
   "source": [
    "class ts_udp:\n",
    "    \"\"\"\n",
    "    UDP (User-Defined Problem) class for the Talent Scheduling problem of the \n",
    "    from the course AuD(Team02[LG,DSc,RK,DSw])\n",
    "\n",
    "    Summary\n",
    "    ========\n",
    "    The talent scheduling problem can be described as follows. A film producer needs \n",
    "    to schedule the scenes of his/her movie on a given location. Each scene has a duration (the days it takes to shoot it) \n",
    "    and requires some subset of the cast to be on location. The cast are paid for each day they are required to be on \n",
    "    location from the day the first scene they are in is shot, to the day the last scene they are in is shot, even though \n",
    "    some of those days they might not be required by the scene currently being shot (i.e., they will be on location waiting\n",
    "    for the next scene they are in to be shot). Each cast member has a different daily salary. The aim of the film producer\n",
    "    is to order the scenes in such a way as to minimize the salary cost of the shooting. \n",
    "\n",
    "    \"\"\"\n",
    "\n",
    "    def __init__(self, file_path):\n",
    "        self.file_path = file_path\n",
    "        self.name = \"\"\n",
    "        self.num_scenes = 0\n",
    "        self.num_actors = 0\n",
    "        self.actor_apprs = []\n",
    "        self.actor_cost = []\n",
    "        self.scene_duration = []\n",
    "        self._load_instance()\n",
    "\n",
    "    def _load_instance(self):\n",
    "        \"\"\"\n",
    "        Load the instance from the dt-file.\n",
    "        \"\"\"\n",
    "        with open(self.file_path, 'r') as file:\n",
    "            lines = file.readlines()\n",
    "            self.name = lines[0].strip()  # First line is the name of the data file\n",
    "            self.num_scenes = int(lines[1].strip())  # Second line is the number of scenes\n",
    "            self.num_actors = int(lines[2].strip())  # Third line is the number of actors\n",
    "            \n",
    "            # Reading actor data\n",
    "            actor_data = lines[4:4 + self.num_actors]    #entsprechend wird hier angenommen, dass die Instanzen den dasselbe Format besitzen\n",
    "            for actor_line in actor_data:\n",
    "                parts = actor_line.strip().split()\n",
    "                appearance = list(map(int, parts[:-1]))  # convert each part except last to int\n",
    "                cost = int(parts[-1])  # Last part is the cost\n",
    "                self.actor_apprs.append(appearance)\n",
    "                self.actor_cost.append(cost)\n",
    "\n",
    "            # Reading scene duration\n",
    "            self.scene_duration = list(map(int, lines[5 + self.num_actors].strip().split()))\n",
    "\n",
    "\n",
    "    ####################\n",
    "    ## Public Methods ##\n",
    "    ####################\n",
    "\n",
    "    def info(self):\n",
    "        print(f\"File name: {self.name}\")\n",
    "        print(f\"Number of scenes: {self.num_scenes}, Number of actors: {self.num_actors}\")\n",
    "        print(f\"Actor appearances: {self.actor_apprs}\")\n",
    "        print(f\"Actor costs: {self.actor_cost}\")\n",
    "        print(f\"Scene durations: {self.scene_duration}\")\n",
    "\n",
    "    def scene_cost(self): #für raw-cost\n",
    "        # Konvertieren der Liste in ein numpy 2D-Array, für Recheneffizienz\n",
    "        array_actor_apprs = np.array(self.actor_apprs)\n",
    "        \n",
    "        # Array, mit dem multipliziert werden soll\n",
    "        array_actor_cost = np.array(self.actor_cost)\n",
    "        \n",
    "        # Durchführen der Multiplikation mittels Broadcasting für effizienz\n",
    "        zwischen_ergebnis = array_actor_apprs * array_actor_cost[:, np.newaxis]\n",
    "        \n",
    "        array_scene_duration = np.array(self.scene_duration)\n",
    "        \n",
    "        # Durchführen der zweiten Multiplikation mittels Broadcasting\n",
    "        ergebnis = zwischen_ergebnis * array_scene_duration\n",
    "        \n",
    "        \n",
    "        sk=0\n",
    "        for e in ergebnis:\n",
    "            sk += e\n",
    "        #print(f'die Szenen-Kosten {sk}')\n",
    "        return list(sk)\n",
    "    \n",
    "    #######################################Primitive Heuristic###########################################\n",
    "    def cost_based_sorting_heuristic(self):\n",
    "        sk = self.scene_cost()\n",
    "        return [i for i in sorted(range(len(sk)), key=lambda x: sk[x], reverse=False)]\n",
    "    #####################################################################################################\n",
    "\n",
    "                \n",
    "\n",
    "    ### this is for the FINAL SCORE ###\n",
    "\n",
    "    def reorder_lists(self,order):\n",
    "        actor_apprs = self.actor_apprs\n",
    "        scene_durations = self.scene_duration\n",
    "        \n",
    "        # Neu ordnen der Szenendauern und Auftritte\n",
    "        new_scene_durations = [scene_durations[i] for i in order]\n",
    "\n",
    "        new_actor_apprs = [[actor_apprs[j][i] for i in order] for j in range(len(actor_apprs))]\n",
    "        \n",
    "        return new_actor_apprs, new_scene_durations\n",
    "\n",
    "\n",
    "    def extra_final(self, order):\n",
    "        actor_apprs, scene_durations = self.reorder_lists(order)\n",
    "        extra_cost = 0\n",
    "        for list_index, act_list in enumerate(actor_apprs):\n",
    "            mod_len = len(act_list)\n",
    "            while mod_len > 0 and act_list[mod_len - 1] == 0:\n",
    "                mod_len -= 1\n",
    "\n",
    "            i = 0\n",
    "            while i < mod_len - 1:\n",
    "                if act_list[i] == 1 and act_list[i + 1] == 0:\n",
    "                    while i + 1 < mod_len and act_list[i + 1] != 1:\n",
    "                        extra_cost += self.actor_cost[list_index] * scene_durations[i + 1]\n",
    "                        i += 1\n",
    "                i += 1\n",
    "        \n",
    "        return extra_cost\n",
    "    \n",
    "\n",
    "\n",
    "def score(extra):\n",
    "    sl = film.scene_cost()\n",
    "    rawcost = sum(sl)\n",
    "    mincost = rawcost + extra \n",
    "    return mincost #+ unnötige Kosten(extra)    "
   ]
  },
  {
   "cell_type": "code",
   "execution_count": 3,
   "id": "218fe1cc-f996-45a9-a9eb-413c861d01a1",
   "metadata": {},
   "outputs": [],
   "source": [
    "film = ts_udp(file_path = \"/mnt/c/Users/Rehma/Desktop/A&D_Project/data_prj/film116.dat\")"
   ]
  },
  {
   "cell_type": "markdown",
   "id": "870dda4b-6780-42d5-b408-4a9e14b5ea70",
   "metadata": {},
   "source": [
    "### Greedy"
   ]
  },
  {
   "cell_type": "code",
   "execution_count": 6,
   "id": "30df14b8-3125-4d89-98d9-0732d00ce088",
   "metadata": {},
   "outputs": [
    {
     "name": "stdout",
     "output_type": "stream",
     "text": [
      "([[0, 1, 1], [0, 0, 0], [1, 1, 1], [0, 0, 0], [0, 0, 1], [1, 0, 0], [1, 1, 0], [0, 0, 1]], [1, 1, 1])\n",
      "84\n"
     ]
    }
   ],
   "source": [
    "### SandBox ###\n",
    "###############\n",
    "\n",
    "order = [2,1,0]\n",
    "\n",
    "print(reorder_lists(order))\n",
    "print(extra(order))"
   ]
  },
  {
   "cell_type": "code",
   "execution_count": 8,
   "id": "9379a593-bf08-4a8e-83a7-3db16c4768b7",
   "metadata": {},
   "outputs": [
    {
     "name": "stdout",
     "output_type": "stream",
     "text": [
      "[0, 3, 17, 14, 16, 1, 12, 10, 9, 2, 5, 15, 7, 4, 11, 13, 6, 18, 8]\n",
      "extra; 199\n",
      "CPU times: user 5.81 ms, sys: 5.87 ms, total: 11.7 ms\n",
      "Wall time: 11.6 ms\n"
     ]
    }
   ],
   "source": [
    "%%time\n",
    "def reorder_lists(order):\n",
    "    actor_apprs = film.actor_apprs         # werden aus der Instanz in der Klasse eingelesen\n",
    "    scene_durations = film.scene_duration  # ebenfalls\n",
    "    \n",
    "    # Neu ordnen der Szenendauern und Auftritte basierend auf 'order'\n",
    "    new_scene_durations = [scene_durations[i] for i in order] \n",
    "    new_actor_apprs = [[actor_apprs[j][i] for i in order] for j in range(len(actor_apprs))]\n",
    "    \n",
    "    return new_actor_apprs, new_scene_durations\n",
    "    \n",
    "def extra(order):\n",
    "        actor_apprs, scene_durations = reorder_lists(order)\n",
    "        #print(actor_apprs, scene_durations) ################\n",
    "    \n",
    "        extra_cost = 0\n",
    "        for list_index, act_list in enumerate(actor_apprs):\n",
    "            l = len(act_list) # =19\n",
    "            i = 0\n",
    "            while i < l - 1: # wir gehen alle Szenen bis auf die letzte Szene(sonst out of index bei 'i+1') durch\n",
    "                if act_list[i] == 1 and act_list[i + 1] == 0: # kommt vor 0 eine 1?\n",
    "                    while i + 1 < l and act_list[i + 1] != 1: # solange wir noch Szenen haben und das nächste Elemente nicht 1 ist; \n",
    "                        extra_cost += film.actor_cost[list_index] * scene_durations[i + 1]  # füge die extra-Kosten entsprechend\n",
    "                        i += 1\n",
    "                        #print(extra_cost, i,l) #############\n",
    "                i += 1 # stellt sicher, dass wir über die Szenen(über die Schauspieler) iterieren\n",
    "        \n",
    "        return extra_cost\n",
    "\n",
    "def ts_greedy(start_scene):\n",
    "    order = [start_scene]   #=tour bei TSP\n",
    "    remaining_scenes = set(range(film.num_scenes))\n",
    "    remaining_scenes.remove(start_scene)\n",
    "    \n",
    "    while remaining_scenes:\n",
    "        min_extra_cost = 999999999\n",
    "        best_scene = None\n",
    "        \n",
    "        for scene in remaining_scenes:\n",
    "            current_order = order + [scene]\n",
    "            extra_cost = extra(current_order) #extra() kann mit beliebig vielen Szenen in beliebiger Anordnung arbeiten \n",
    "            #print(extra_cost, order) ################\n",
    "            if extra_cost < min_extra_cost: # wenn die Extrakosten der 'current_order' kleiner sind als die bisher bekannten niedrigsten Extrakosten;\n",
    "                min_extra_cost = extra_cost\n",
    "                best_scene = scene\n",
    "        \n",
    "        order.append(best_scene)\n",
    "        remaining_scenes.remove(best_scene)\n",
    "\n",
    "    \n",
    "    return order\n",
    "\n",
    "print(ts_greedy(0))\n",
    "order = ts_greedy(0)\n",
    "print(f'extra; {film.extra_final(order)}')"
   ]
  },
  {
   "cell_type": "code",
   "execution_count": null,
   "id": "d04fc18c-09f2-4055-9882-195818d098cb",
   "metadata": {},
   "outputs": [],
   "source": [
    "print(film.actor_apprs)\n",
    "print('--'*33)\n",
    "print(film.scene_duration) \n",
    "print(film.actor_cost) \n",
    "print(film.num_scenes)"
   ]
  },
  {
   "cell_type": "markdown",
   "id": "b781ca9a-fc44-4a67-84b3-9e5f7b1227af",
   "metadata": {},
   "source": [
    "### Multi Start Greedy"
   ]
  },
  {
   "cell_type": "code",
   "execution_count": 9,
   "id": "4046dcf3-bac7-46fc-89b8-6b22648c8c13",
   "metadata": {},
   "outputs": [
    {
     "name": "stdout",
     "output_type": "stream",
     "text": [
      "CPU times: user 96.7 ms, sys: 0 ns, total: 96.7 ms\n",
      "Wall time: 96.5 ms\n"
     ]
    },
    {
     "data": {
      "text/plain": [
       "(174, [18, 0, 3, 17, 14, 16, 1, 12, 10, 9, 2, 5, 15, 7, 4, 11, 13, 6, 8])"
      ]
     },
     "execution_count": 9,
     "metadata": {},
     "output_type": "execute_result"
    }
   ],
   "source": [
    "%%time\n",
    "def multi_start_ts():\n",
    "    lowest_extra = 9999999\n",
    "    best_order = None\n",
    "    for start_scene in range(len(film.scene_duration)):\n",
    "        order = ts_greedy(start_scene)\n",
    "        extra = int(film.extra_final(order))\n",
    "        if extra < lowest_extra:\n",
    "            lowest_extra = extra\n",
    "            best_order = order         \n",
    "\n",
    "    return lowest_extra, best_order \n",
    "\n",
    "multi_start_ts()"
   ]
  },
  {
   "cell_type": "markdown",
   "id": "b831ff1f-d549-416b-b891-f940724b939a",
   "metadata": {},
   "source": [
    "### Übersicht"
   ]
  },
  {
   "cell_type": "code",
   "execution_count": null,
   "id": "468237ce-33f7-4a61-8f43-09732d1f662e",
   "metadata": {},
   "outputs": [],
   "source": [
    "film.info()\n",
    "\n",
    "print(100 * \"~\")\n",
    "\n",
    "print(f'die Szenen-Kosten;     {film.scene_cost()}')\n",
    "\n",
    "print(100 * \"~\")\n",
    "\n",
    "print(f'cost_based_sorting;    {film.cost_based_sorting_heuristic()} extra = {film.extra_final(order = film.cost_based_sorting_heuristic())}')\n",
    "print(f'ts_greedy;             {ts_greedy(0)} extra = {film.extra_final(order = ts_greedy(0))}')\n",
    "print(f'multi_start_ts;        {multi_start_ts()[1]} extra = {multi_start_ts()[0]}')\n",
    "\n",
    "print(\"die 'optimale' Lösung; [18, 17, 14, 3, 0, 16, 1, 12, 13, 6, 4, 10, 2, 9, 15, 5, 7, 11, 8] extra = 110\")"
   ]
  },
  {
   "cell_type": "code",
   "execution_count": null,
   "id": "1359acde-1ee0-4717-aceb-8227552d3c14",
   "metadata": {},
   "outputs": [],
   "source": [
    "# die Kosten;\n",
    "print(f'rowcost; {sum(film.scene_cost())}')\n",
    "print(f'extra; {film.extra_final(order = film.cost_based_sorting_heuristic())}')\n",
    "print(f'mincost; {score(film.extra_final(film.cost_based_sorting_heuristic()))} /541')"
   ]
  },
  {
   "cell_type": "markdown",
   "id": "27aaa0b8-a618-44b3-9e66-0710d46d5898",
   "metadata": {},
   "source": [
    "### Rollout Greedy"
   ]
  },
  {
   "cell_type": "code",
   "execution_count": 49,
   "id": "ac6d1ea2-dd39-40f1-830b-12adf80526d8",
   "metadata": {},
   "outputs": [
    {
     "name": "stdout",
     "output_type": "stream",
     "text": [
      "1 25\n",
      "1 25\n",
      "1 25\n",
      "1 25\n",
      "1 25\n",
      "1 25\n",
      "1 25\n",
      "1 25\n",
      "1 25\n",
      "1 25\n",
      "1 25\n",
      "1 25\n",
      "1 25\n",
      "1 25\n",
      "1 25\n",
      "1 25\n",
      "1 25\n",
      "429 [1, 0]\n",
      "CPU times: user 83.3 ms, sys: 0 ns, total: 83.3 ms\n",
      "Wall time: 83.1 ms\n"
     ]
    },
    {
     "data": {
      "text/plain": [
       "([0, 1, 1, 1, 1, 1, 1, 1, 1, 1, 1, 1, 1, 1, 1, 1, 1, 1], 429)"
      ]
     },
     "execution_count": 49,
     "metadata": {},
     "output_type": "execute_result"
    }
   ],
   "source": [
    "%%time\n",
    "def ts_greedy(start_scene):\n",
    "    order = start_scene   #=tour bei TSP\n",
    "    remaining_scenes = set(range(film.num_scenes))\n",
    "    #print(start_scene)\n",
    "    if start_scene[0] in remaining_scenes:\n",
    "        remaining_scenes.remove(start_scene[0])\n",
    "    \n",
    "    while remaining_scenes:\n",
    "        min_extra_cost = 999999999\n",
    "        best_scene = None\n",
    "        \n",
    "        for scene in remaining_scenes:\n",
    "            current_order = order + [scene]\n",
    "            extra_cost = extra(current_order) #extra() kann mit beliebig vielen Szenen in beliebiger Anordnung arbeiten \n",
    "            #print(extra_cost, order) ################\n",
    "            if extra_cost < min_extra_cost: # wenn die Extrakosten der 'current_order' kleiner sind als die bisher bekannten niedrigsten Extrakosten;\n",
    "                min_extra_cost = extra_cost\n",
    "                best_scene = scene\n",
    "        \n",
    "        order.append(best_scene)\n",
    "        remaining_scenes.remove(best_scene)\n",
    "\n",
    "    \n",
    "    return order, film.extra_final(order)\n",
    "    \n",
    "def select_using_rollout(start_scene):\n",
    "    order = [start_scene]\n",
    "    remaining_scenes = set(range(film.num_scenes))\n",
    "    #print(remaining_scenes)\n",
    "    if start_scene in remaining_scenes:\n",
    "        remaining_scenes.remove(start_scene)\n",
    "    #print(start_scene)\n",
    "    node = order[len(order)-1]\n",
    "    #print(node,len(order)-1)\n",
    "    best_estimated_value = 1000000\n",
    "    best_node = node        \n",
    "        \n",
    "    for next_scene in remaining_scenes:\n",
    "        #print(order, next_scene)\n",
    "        if next_scene in order:\n",
    "            continue            \n",
    "        # _, heißt, dass wir den ersten Rückgabewert ignorieren\n",
    "        \n",
    "        # Berechne die NN-Länge der Rest-start_scene von next_scene aus\n",
    "        order.append(next_scene)\n",
    "        #print(order,next_scene)\n",
    "        _, nn_value = ts_greedy(order)\n",
    "        \n",
    "        \n",
    "                         # g(x_k, u_k)                    + J~ (f(x_k, u_k))\n",
    "        estimated_value = extra([node,next_scene]) + nn_value\n",
    "\n",
    "        if estimated_value < best_estimated_value:\n",
    "            best_node = next_scene\n",
    "            best_estimated_value = estimated_value\n",
    "\n",
    "    \n",
    "   \n",
    "    return best_node, extra([node,best_node])\n",
    "\n",
    "def ts_rollout_greedy(start_scene):\n",
    "    order = [start_scene]  #:[0]\n",
    "    remaining_scenes = set(range(film.num_scenes)) #:[0,1,2,3,4,5,6,7,8,9,10,11,12,13,14,15,16,17,18]\n",
    "    remaining_scenes.remove(start_scene) #:[1,2,3,4,5,6,7,8,9,10,11,12,13,14,15,16,17,18]\n",
    "    \n",
    "    total_extra_cost = 0\n",
    "    \n",
    "    #solange die sequenz noch nicht alle Knoten umfasst\n",
    "    while len(order) < len(remaining_scenes):    #: 1 < 18 -> True\n",
    "        \n",
    "        next_scene, extra_cost = select_using_rollout(start_scene) #: 1, 25\n",
    "        print(next_scene, extra_cost)\n",
    "        order.append(next_scene)   #: [0,1]\n",
    "        total_extra_cost += extra_cost     #: 0 + 25 = 25\n",
    "        \n",
    "    total_extra_cost += extra([order[len(order)-1],order[0]])  #: 425(=25+25+...) + 4\n",
    "    print(total_extra_cost,[order[len(order)-1],order[0]] )\n",
    "    return order, total_extra_cost\n",
    "\n",
    "ts_rollout_greedy(0)"
   ]
  },
  {
   "cell_type": "markdown",
   "id": "35288848-4a70-44aa-9281-e5d39c609b02",
   "metadata": {},
   "source": [
    "### Multistart Rollout Greedy"
   ]
  },
  {
   "cell_type": "code",
   "execution_count": null,
   "id": "fa0bb169-ed22-4eba-9f39-193eb9240278",
   "metadata": {},
   "outputs": [],
   "source": [
    "%%time\n",
    "def multi_start_rollout():\n",
    "    lowest_extra = 9999999\n",
    "    best_order = None\n",
    "    for start_scene in range(len(film.scene_duration)):\n",
    "        order = ts_rollout_greedy(start_scene)\n",
    "        extra = int(film.extra_final(order))\n",
    "        if extra < lowest_extra:\n",
    "            lowest_extra = extra\n",
    "            best_order = order         \n",
    "\n",
    "    return lowest_extra, best_order \n",
    "\n",
    "multi_start_rollout()  "
   ]
  },
  {
   "cell_type": "markdown",
   "id": "7625ff2d-b9f4-4b05-9326-441dfd5c0337",
   "metadata": {},
   "source": [
    "```\n",
    "tour = order\n",
    "distance = extra\n",
    "\n",
    "```"
   ]
  },
  {
   "cell_type": "markdown",
   "id": "7a21551e-3f24-40a0-835c-ce85b2a5d3c7",
   "metadata": {},
   "source": [
    "### Breitensuche"
   ]
  },
  {
   "cell_type": "code",
   "execution_count": null,
   "id": "bfaea78e-dd9a-43c3-b4dc-c750e5f49c80",
   "metadata": {},
   "outputs": [],
   "source": [
    "# in progress"
   ]
  },
  {
   "cell_type": "markdown",
   "id": "a575860c-31df-4c66-be72-fe65c86f98e0",
   "metadata": {},
   "source": [
    "### Instanz 'small & small02'"
   ]
  },
  {
   "cell_type": "markdown",
   "id": "0ca0a90a-f84d-4da7-8591-a723d13d8ad5",
   "metadata": {},
   "source": [
    "```\n",
    "========================================== film116\n",
    ".\n",
    ".\n",
    ".\n",
    "\n",
    "mincost = 541, rawcost = 431, extra = 110, bound = 134546788\n",
    "ccc = 524287,loop = 4980736\n",
    "reuse = 4456431, reenter = 0, definite = 0, lookahead = 0, diffuse = 0, clump = 0\n",
    "FINAL\n",
    " 18  17  14   3   0  16   1  12  13   6   4  10   2   9  15   5   7  11   8 \n",
    "----------------------------------------------------------------------------\n",
    "  .   .   .   X   X   X   X   X   .   .   .   .   .   .   .   .   .   .   . |  10\n",
    "  .   .   .   .   .   .   .   X   X   -   -   -   -   X   .   .   .   .   . |  4\n",
    "  .   .   .   .   X   X   X   -   X   X   X   X   X   .   .   .   .   .   . |  5\n",
    "  .   .   .   .   .   .   .   .   .   .   .   X   -   X   -   -   X   X   X |  5\n",
    "  X   X   -   -   X   X   -   -   -   -   -   X   -   -   -   X   X   .   . |  5\n",
    "  .   .   .   .   .   .   .   .   .   .   .   .   X   X   X   X   .   .   . |  40\n",
    "  .   .   .   .   .   .   X   X   -   -   X   -   X   X   -   -   -   X   . |  4\n",
    "  .   X   X   X   X   .   .   .   .   .   .   .   .   .   .   .   .   .   . |  20\n",
    "----------------------------------------------------------------------------\n",
    "  1   1   1   1   1   1   1   1   1   1   1   1   1   1   1   1   1   1   2 \n",
    "----------------------------------------------------------------------------\n",
    "  5  25  25  35  40  20  24  28  18  18  18  23  63  58  54  54  14   9  10  = 541\n",
    "----------------------------------------------------------------------------\n",
    "  5  25  20  30  40  20  19  18   9   5   9  15  49  53  40  45  10   9  10 \n",
    "TIME = 776 ms\n",
    "FINALDATA 19 8 19 541 524287 4456431 0 776 0 tv film116.dat"
   ]
  }
 ],
 "metadata": {
  "kernelspec": {
   "display_name": "Python 3 (ipykernel)",
   "language": "python",
   "name": "python3"
  },
  "language_info": {
   "codemirror_mode": {
    "name": "ipython",
    "version": 3
   },
   "file_extension": ".py",
   "mimetype": "text/x-python",
   "name": "python",
   "nbconvert_exporter": "python",
   "pygments_lexer": "ipython3",
   "version": "3.10.12"
  }
 },
 "nbformat": 4,
 "nbformat_minor": 5
}
